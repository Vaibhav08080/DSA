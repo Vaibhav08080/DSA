{
  "nbformat": 4,
  "nbformat_minor": 0,
  "metadata": {
    "colab": {
      "provenance": [],
      "authorship_tag": "ABX9TyP3qTd0qOoZ9WcPn1ogTFkW",
      "include_colab_link": true
    },
    "kernelspec": {
      "name": "python3",
      "display_name": "Python 3"
    },
    "language_info": {
      "name": "python"
    }
  },
  "cells": [
    {
      "cell_type": "markdown",
      "metadata": {
        "id": "view-in-github",
        "colab_type": "text"
      },
      "source": [
        "<a href=\"https://colab.research.google.com/github/Vaibhav08080/DSA/blob/main/Binary_tree_and_BST.ipynb\" target=\"_parent\"><img src=\"https://colab.research.google.com/assets/colab-badge.svg\" alt=\"Open In Colab\"/></a>"
      ]
    },
    {
      "cell_type": "code",
      "execution_count": null,
      "metadata": {
        "id": "z0p7bq-rpyf_"
      },
      "outputs": [],
      "source": [
        "#Binary tree and binary search tree"
      ]
    },
    {
      "cell_type": "markdown",
      "source": [
        "#A tree is a non linear hierarchial data structure that consists of nodes connected by edges"
      ],
      "metadata": {
        "id": "mf_0MGojv3JP"
      }
    },
    {
      "cell_type": "code",
      "source": [
        " class Node:\n",
        "  def __init__(self, data):\n",
        "    self.data =data\n",
        "    self.left=None\n",
        "    self.right=None\n",
        "root= Node(5)\n",
        "root.left = Node(3)\n",
        "root.right = Node(7)\n",
        "print(root.data)"
      ],
      "metadata": {
        "colab": {
          "base_uri": "https://localhost:8080/"
        },
        "id": "8IlKzG3mwDat",
        "outputId": "9487f815-8589-4fbc-cf75-c75d6f5433e4"
      },
      "execution_count": null,
      "outputs": [
        {
          "output_type": "stream",
          "name": "stdout",
          "text": [
            "5\n"
          ]
        }
      ]
    },
    {
      "cell_type": "markdown",
      "source": [
        "# Traversal in tree- Inorder Preorder Postorder LevelOrder LevelOrder is used by Queue"
      ],
      "metadata": {
        "id": "czGHVM1qxEvf"
      }
    },
    {
      "cell_type": "code",
      "source": [
        "# In preOrder traversal We will proceed with the root left subtree and then right subtree pre here defining the position of the root left and right will same as consatant in pre post and Inorder"
      ],
      "metadata": {
        "id": "mYwMIkEexP7C"
      },
      "execution_count": null,
      "outputs": []
    },
    {
      "cell_type": "code",
      "source": [
        "class Node:\n",
        "  def __init__(self,data):\n",
        "    self.data =data\n",
        "    self.right=None\n",
        "    self.left=None\n",
        "root = Node(1)\n",
        "root.left = Node(2)\n",
        "root.right = Node(3)\n",
        "root.left.left = Node(4)\n",
        "root.left.right = Node(5)"
      ],
      "metadata": {
        "id": "mndhLx2SxEhs"
      },
      "execution_count": 2,
      "outputs": []
    },
    {
      "cell_type": "code",
      "source": [
        "def inorder(node):\n",
        "  if node is None:\n",
        "    return\n",
        "  inorder(node.left)\n",
        "  print(node.data, end=\"\")\n",
        "  inorder(node.right)\n",
        "inorder(root)\n"
      ],
      "metadata": {
        "colab": {
          "base_uri": "https://localhost:8080/"
        },
        "id": "L9lKYClyLYYP",
        "outputId": "d6626a19-8330-4dc7-e5c2-49cf436a740d"
      },
      "execution_count": 4,
      "outputs": [
        {
          "output_type": "stream",
          "name": "stdout",
          "text": [
            "42513"
          ]
        }
      ]
    },
    {
      "cell_type": "code",
      "source": [
        "def preorder(node):\n",
        "  if node is None:\n",
        "    return\n",
        "  print(node.data , end=\"\")\n",
        "  preorder(node.left)\n",
        "  preorder(node.right)\n",
        "preorder(root)\n"
      ],
      "metadata": {
        "colab": {
          "base_uri": "https://localhost:8080/"
        },
        "id": "z-iUuvQsNSfy",
        "outputId": "a3bd0b89-b747-4e39-e620-9439771006cd"
      },
      "execution_count": 5,
      "outputs": [
        {
          "output_type": "stream",
          "name": "stdout",
          "text": [
            "12453"
          ]
        }
      ]
    },
    {
      "cell_type": "code",
      "source": [
        "def postorder(node):\n",
        "  if node is None:\n",
        "    return\n",
        "  postorder(node.left)\n",
        "  postorder(node.right)\n",
        "  print(node.data , end =\"\")\n",
        "postorder(root)\n"
      ],
      "metadata": {
        "colab": {
          "base_uri": "https://localhost:8080/"
        },
        "id": "7T6JD3lzN0kC",
        "outputId": "ce13ed37-49ef-4ec2-b026-1458e9e03df7"
      },
      "execution_count": 7,
      "outputs": [
        {
          "output_type": "stream",
          "name": "stdout",
          "text": [
            "45231"
          ]
        }
      ]
    },
    {
      "cell_type": "code",
      "source": [
        "class TreeNode:\n",
        "    def __init__(self, data):\n",
        "        self.data = data\n",
        "        self.left = None\n",
        "        self.right = None\n",
        "\n",
        "def levelOrderTraversal(root):\n",
        "    if not root:\n",
        "        return\n",
        "\n",
        "    queue = []           # Create an empty queue to hold nodes\n",
        "    queue.append(root)   # Start by adding the root to the queue\n",
        "\n",
        "    while queue:\n",
        "        node = queue.pop(0)        # Remove the first node from the queue\n",
        "        print(node.data, end=' ')  # Visit the node (print its data)\n",
        "\n",
        "        # If the left child exists, add it to the queue\n",
        "        if node.left:\n",
        "            queue.append(node.left)\n",
        "        # If the right child exists, add it to the queue\n",
        "        if node.right:\n",
        "            queue.append(node.right)\n",
        "\n",
        "# Example usage:\n",
        "root = TreeNode(1)\n",
        "root.left = TreeNode(2)\n",
        "root.right = TreeNode(3)\n",
        "root.left.left = TreeNode(4)\n",
        "root.left.right =TreeNode(5)\n",
        "\n",
        "levelOrderTraversal(root)"
      ],
      "metadata": {
        "colab": {
          "base_uri": "https://localhost:8080/"
        },
        "id": "f9C_L1VPWier",
        "outputId": "9a5508c9-06d4-489b-ddbd-e311cfd89303"
      },
      "execution_count": 8,
      "outputs": [
        {
          "output_type": "stream",
          "name": "stdout",
          "text": [
            "1 2 3 4 5 "
          ]
        }
      ]
    },
    {
      "cell_type": "code",
      "source": [
        "class TreeNode:\n",
        "    def __init__(self, data):\n",
        "        self.data = data\n",
        "        self.left = None\n",
        "        self.right = None\n",
        "\n",
        "def insert(root, key):\n",
        "    if root is None:\n",
        "        return TreeNode(key)\n",
        "    if key < root.data:\n",
        "        root.left = insert(root.left, key)\n",
        "    elif key > root.data:\n",
        "        root.right = insert(root.right, key)\n",
        "    return root"
      ],
      "metadata": {
        "id": "vic7YXf12poV"
      },
      "execution_count": 9,
      "outputs": []
    },
    {
      "cell_type": "code",
      "source": [
        "def search(root, key):\n",
        "    if root is None or root.data == key:\n",
        "        return root\n",
        "    if key < root.data:\n",
        "        return search(root.left, key)\n",
        "    else:\n",
        "        return search(root.right, key)\n"
      ],
      "metadata": {
        "id": "OEjOVg5w2vkj"
      },
      "execution_count": 10,
      "outputs": []
    },
    {
      "cell_type": "code",
      "source": [
        "def findMin(root):\n",
        "    while root.left:\n",
        "        root = root.left\n",
        "    return root\n",
        "\n",
        "def deleteNode(root, key):\n",
        "    if root is None:\n",
        "        return root\n",
        "    if key < root.data:\n",
        "        root.left = deleteNode(root.left, key)\n",
        "    elif key > root.data:\n",
        "        root.right = deleteNode(root.right, key)\n",
        "    else:  # Found the node to delete\n",
        "        if root.left is None:\n",
        "            return root.right\n",
        "        elif root.right is None:\n",
        "            return root.left\n",
        "        temp = findMin(root.right)\n",
        "        root.data = temp.data\n",
        "        root.right = deleteNode(root.right, temp.data)\n",
        "    return root\n"
      ],
      "metadata": {
        "id": "q61D5bMa2y0E"
      },
      "execution_count": 1,
      "outputs": []
    }
  ]
}