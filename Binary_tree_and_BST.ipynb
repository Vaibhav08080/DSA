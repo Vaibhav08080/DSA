{
  "nbformat": 4,
  "nbformat_minor": 0,
  "metadata": {
    "colab": {
      "provenance": [],
      "authorship_tag": "ABX9TyOd8/UgViZqUY3mkbHAg0KA",
      "include_colab_link": true
    },
    "kernelspec": {
      "name": "python3",
      "display_name": "Python 3"
    },
    "language_info": {
      "name": "python"
    }
  },
  "cells": [
    {
      "cell_type": "markdown",
      "metadata": {
        "id": "view-in-github",
        "colab_type": "text"
      },
      "source": [
        "<a href=\"https://colab.research.google.com/github/Vaibhav08080/DSA/blob/main/Binary_tree_and_BST.ipynb\" target=\"_parent\"><img src=\"https://colab.research.google.com/assets/colab-badge.svg\" alt=\"Open In Colab\"/></a>"
      ]
    },
    {
      "cell_type": "code",
      "execution_count": null,
      "metadata": {
        "id": "z0p7bq-rpyf_"
      },
      "outputs": [],
      "source": [
        "#Binary tree and binary search tree"
      ]
    },
    {
      "cell_type": "markdown",
      "source": [
        "#A tree is a non linear hierarchial data structure that consists of nodes connected by edges"
      ],
      "metadata": {
        "id": "mf_0MGojv3JP"
      }
    },
    {
      "cell_type": "code",
      "source": [
        " class Node:\n",
        "  def __init__(self, data):\n",
        "    self.data =data\n",
        "    self.left=None\n",
        "    self.right=None\n",
        "root= Node(5)\n",
        "root.left = Node(3)\n",
        "root.right = Node(7)\n",
        "print(root.data)"
      ],
      "metadata": {
        "colab": {
          "base_uri": "https://localhost:8080/"
        },
        "id": "8IlKzG3mwDat",
        "outputId": "9487f815-8589-4fbc-cf75-c75d6f5433e4"
      },
      "execution_count": null,
      "outputs": [
        {
          "output_type": "stream",
          "name": "stdout",
          "text": [
            "5\n"
          ]
        }
      ]
    },
    {
      "cell_type": "markdown",
      "source": [
        "# Traversal in tree- Inorder Preorder Postorder LevelOrder LevelOrder is used by Queue"
      ],
      "metadata": {
        "id": "czGHVM1qxEvf"
      }
    },
    {
      "cell_type": "code",
      "source": [
        "# In preOrder traversal We will proceed with the root left subtree and then right subtree pre here defining the position of the root left and right will same as consatant in pre post and Inorder"
      ],
      "metadata": {
        "id": "mYwMIkEexP7C"
      },
      "execution_count": null,
      "outputs": []
    },
    {
      "cell_type": "code",
      "source": [],
      "metadata": {
        "id": "mndhLx2SxEhs"
      },
      "execution_count": null,
      "outputs": []
    }
  ]
}