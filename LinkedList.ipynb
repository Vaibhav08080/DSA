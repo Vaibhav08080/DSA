{
  "nbformat": 4,
  "nbformat_minor": 0,
  "metadata": {
    "colab": {
      "provenance": [],
      "authorship_tag": "ABX9TyMUhcQI7dGzhLuflb5ovuSM",
      "include_colab_link": true
    },
    "kernelspec": {
      "name": "python3",
      "display_name": "Python 3"
    },
    "language_info": {
      "name": "python"
    }
  },
  "cells": [
    {
      "cell_type": "markdown",
      "metadata": {
        "id": "view-in-github",
        "colab_type": "text"
      },
      "source": [
        "<a href=\"https://colab.research.google.com/github/Vaibhav08080/DSA/blob/main/LinkedList.ipynb\" target=\"_parent\"><img src=\"https://colab.research.google.com/assets/colab-badge.svg\" alt=\"Open In Colab\"/></a>"
      ]
    },
    {
      "cell_type": "code",
      "execution_count": null,
      "metadata": {
        "id": "cjqQqhpF_sRK"
      },
      "outputs": [],
      "source": [
        "#LinkedList"
      ]
    },
    {
      "cell_type": "code",
      "source": [
        "class Node:\n",
        "  def __init__(self,data):\n",
        "    self.data = data\n",
        "    self.next = None\n",
        "\n",
        "a= Node(5)\n",
        "b=Node(3)\n",
        "a.next=b\n",
        "head = a\n",
        "print(a.next.data)"
      ],
      "metadata": {
        "colab": {
          "base_uri": "https://localhost:8080/"
        },
        "id": "45zjQi2A_0wP",
        "outputId": "7ed68b3c-3499-4a8a-ab80-8de672d5902f"
      },
      "execution_count": null,
      "outputs": [
        {
          "output_type": "stream",
          "name": "stdout",
          "text": [
            "3\n"
          ]
        }
      ]
    },
    {
      "cell_type": "code",
      "source": [
        "# Traverse Linked List\n",
        "def printLinkedList(head):\n",
        "    curr = head\n",
        "    while curr is not None:\n",
        "        print(curr.data, end=\" \")\n",
        "        curr = curr.next\n"
      ],
      "metadata": {
        "id": "Pd8IKt-7__uI"
      },
      "execution_count": null,
      "outputs": []
    },
    {
      "cell_type": "code",
      "source": [],
      "metadata": {
        "id": "RxdGjARBCaNZ"
      },
      "execution_count": null,
      "outputs": []
    }
  ]
}