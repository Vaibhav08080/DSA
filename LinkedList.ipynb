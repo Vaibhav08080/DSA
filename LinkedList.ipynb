{
  "nbformat": 4,
  "nbformat_minor": 0,
  "metadata": {
    "colab": {
      "provenance": [],
      "authorship_tag": "ABX9TyM+O+xVRGCy4ZX6DkaN12xD",
      "include_colab_link": true
    },
    "kernelspec": {
      "name": "python3",
      "display_name": "Python 3"
    },
    "language_info": {
      "name": "python"
    }
  },
  "cells": [
    {
      "cell_type": "markdown",
      "metadata": {
        "id": "view-in-github",
        "colab_type": "text"
      },
      "source": [
        "<a href=\"https://colab.research.google.com/github/Vaibhav08080/DSA/blob/main/LinkedList.ipynb\" target=\"_parent\"><img src=\"https://colab.research.google.com/assets/colab-badge.svg\" alt=\"Open In Colab\"/></a>"
      ]
    },
    {
      "cell_type": "code",
      "execution_count": 20,
      "metadata": {
        "id": "cjqQqhpF_sRK"
      },
      "outputs": [],
      "source": [
        "#LinkedList"
      ]
    },
    {
      "cell_type": "code",
      "source": [
        "class Node:\n",
        "  def __init__(self,data):\n",
        "    self.data = data\n",
        "    self.next = None\n",
        "\n",
        "a= Node(5)\n",
        "b=Node(3)\n",
        "a.next=b\n",
        "head = a\n",
        "print(a.next.data)"
      ],
      "metadata": {
        "colab": {
          "base_uri": "https://localhost:8080/"
        },
        "id": "45zjQi2A_0wP",
        "outputId": "5a04a608-6f21-4743-c5b5-cf0bcbc3eb16"
      },
      "execution_count": 21,
      "outputs": [
        {
          "output_type": "stream",
          "name": "stdout",
          "text": [
            "3\n"
          ]
        }
      ]
    },
    {
      "cell_type": "code",
      "source": [
        "# Traverse Linked List\n",
        "def printLinkedList(head):\n",
        "    curr = head\n",
        "    while curr is not None:\n",
        "        print(curr.data, end=\" \")\n",
        "        curr = curr.next\n",
        "printLinkedList(head)"
      ],
      "metadata": {
        "id": "Pd8IKt-7__uI",
        "colab": {
          "base_uri": "https://localhost:8080/"
        },
        "outputId": "173d4abd-dd0e-4c3d-a778-6e5ca646906f"
      },
      "execution_count": 22,
      "outputs": [
        {
          "output_type": "stream",
          "name": "stdout",
          "text": [
            "5 3 "
          ]
        }
      ]
    },
    {
      "cell_type": "code",
      "source": [
        "#insertion in linked list\n",
        "# begining\n",
        "newNode = Node(4)\n",
        "newNode.next=head\n",
        "head=newNode"
      ],
      "metadata": {
        "id": "RxdGjARBCaNZ"
      },
      "execution_count": 23,
      "outputs": []
    },
    {
      "cell_type": "code",
      "source": [
        "#insertion at the last\n",
        "newNode=Node(11)\n",
        "curr = head\n",
        "while curr.next !=None:\n",
        "  curr = curr.next\n",
        "curr.next = newNode\n",
        "printLinkedList(head)\n"
      ],
      "metadata": {
        "colab": {
          "base_uri": "https://localhost:8080/"
        },
        "id": "Oc0sioayLvki",
        "outputId": "89d7c4d5-4e9d-4c51-a6bb-af836956b811"
      },
      "execution_count": 24,
      "outputs": [
        {
          "output_type": "stream",
          "name": "stdout",
          "text": [
            "4 5 3 11 "
          ]
        }
      ]
    },
    {
      "cell_type": "code",
      "source": [
        "#insertion at the kth index\n",
        "k = 2\n",
        "newNode = Node(6)\n",
        "curr = head\n",
        "for i in range(k-1):\n",
        "  curr = curr.next\n",
        "newNode.next = curr.next\n",
        "curr.next= newNode\n",
        "printLinkedList(head)\n"
      ],
      "metadata": {
        "id": "L09DeoRrNCnx",
        "colab": {
          "base_uri": "https://localhost:8080/"
        },
        "outputId": "6b55d361-b730-43da-b2ee-c8302aa303d1"
      },
      "execution_count": 25,
      "outputs": [
        {
          "output_type": "stream",
          "name": "stdout",
          "text": [
            "4 5 6 3 11 "
          ]
        }
      ]
    },
    {
      "cell_type": "code",
      "source": [
        "#Deletion in Node First one\n",
        "newNode = Node(5)\n",
        "head=head.next\n",
        "printLinkedList(head)"
      ],
      "metadata": {
        "colab": {
          "base_uri": "https://localhost:8080/"
        },
        "id": "T_DavI_ugOeK",
        "outputId": "7cb0b150-1b7c-4257-8bff-a94dcdaaa367"
      },
      "execution_count": 26,
      "outputs": [
        {
          "output_type": "stream",
          "name": "stdout",
          "text": [
            "5 6 3 11 "
          ]
        }
      ]
    },
    {
      "cell_type": "code",
      "source": [
        "#Deletion in the node last one\n",
        "curr=head\n",
        "while curr.next.next is not None:\n",
        "  curr=curr.next\n",
        "curr.next=None\n",
        "printLinkedList(head)"
      ],
      "metadata": {
        "colab": {
          "base_uri": "https://localhost:8080/"
        },
        "id": "f-Ol9f7PiwsN",
        "outputId": "bebcb25f-f729-4d4a-ef94-b78d3f86c2d3"
      },
      "execution_count": 27,
      "outputs": [
        {
          "output_type": "stream",
          "name": "stdout",
          "text": [
            "5 6 3 "
          ]
        }
      ]
    },
    {
      "cell_type": "code",
      "source": [
        "#deletion at kth node\n",
        "k = 3\n",
        "curr = head\n",
        "for i in range(k-2):\n",
        "    curr = curr.next\n",
        "\n",
        "curr.next = curr.next.next\n",
        "printLinkedList(head)\n"
      ],
      "metadata": {
        "colab": {
          "base_uri": "https://localhost:8080/"
        },
        "id": "R8fegaf7jtIm",
        "outputId": "02d6c01e-ddf6-4ff5-833b-a1ebf6f6e123"
      },
      "execution_count": 29,
      "outputs": [
        {
          "output_type": "stream",
          "name": "stdout",
          "text": [
            "5 6 "
          ]
        }
      ]
    }
  ]
}