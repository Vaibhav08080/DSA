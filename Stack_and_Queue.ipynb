{
  "nbformat": 4,
  "nbformat_minor": 0,
  "metadata": {
    "colab": {
      "provenance": [],
      "authorship_tag": "ABX9TyO6j6cQyq2IeDY5+h70cwgK",
      "include_colab_link": true
    },
    "kernelspec": {
      "name": "python3",
      "display_name": "Python 3"
    },
    "language_info": {
      "name": "python"
    }
  },
  "cells": [
    {
      "cell_type": "markdown",
      "metadata": {
        "id": "view-in-github",
        "colab_type": "text"
      },
      "source": [
        "<a href=\"https://colab.research.google.com/github/Vaibhav08080/DSA/blob/main/Stack_and_Queue.ipynb\" target=\"_parent\"><img src=\"https://colab.research.google.com/assets/colab-badge.svg\" alt=\"Open In Colab\"/></a>"
      ]
    },
    {
      "cell_type": "code",
      "execution_count": null,
      "metadata": {
        "id": "ortl4BhFojbT"
      },
      "outputs": [],
      "source": []
    },
    {
      "cell_type": "markdown",
      "source": [
        "#stack is a linear data structure that follows LIFO (last In First Out) principle the last element inserted is the first to be popped out\n",
        "#Basic operations in the stack - push , pop , top ,isEmpty , isFull"
      ],
      "metadata": {
        "id": "ZQubyf0KpSs4"
      }
    },
    {
      "cell_type": "code",
      "source": [
        "#stack implementation (List implementation)\n",
        "st=[]\n",
        "st.append(8)\n",
        "st.append(1)\n",
        "print(st)\n",
        "st.pop() # pop function return also\n"
      ],
      "metadata": {
        "colab": {
          "base_uri": "https://localhost:8080/"
        },
        "id": "qj2nIz1ap0az",
        "outputId": "3cffa21c-2440-402e-ce6a-4e49eaee3139"
      },
      "execution_count": 2,
      "outputs": [
        {
          "output_type": "stream",
          "name": "stdout",
          "text": [
            "[8, 1]\n"
          ]
        },
        {
          "output_type": "execute_result",
          "data": {
            "text/plain": [
              "1"
            ]
          },
          "metadata": {},
          "execution_count": 2
        }
      ]
    },
    {
      "cell_type": "code",
      "source": [
        "class Stack:\n",
        "    def __init__(self):\n",
        "        self.stack = []\n",
        "\n",
        "    def push(self, item):\n",
        "        self.stack.append(item)   # O(1)\n",
        "\n",
        "    def pop(self):\n",
        "        if self.is_empty():\n",
        "            return \"Stack Underflow\"\n",
        "        return self.stack.pop()   # O(1)\n",
        "\n",
        "    def is_empty(self):\n",
        "        return len(self.stack) == 0   # O(1)\n",
        "\n",
        "    def display(self):\n",
        "        if self.is_empty():\n",
        "            print(\"Stack is empty\")\n",
        "        else:\n",
        "            print(\"Stack (top -> bottom):\", self.stack[::-1])\n",
        "\n",
        "\n",
        "# Example usage\n",
        "s = Stack()\n",
        "s.push(10)\n",
        "s.push(20)\n",
        "s.push(30)\n",
        "s.display()      # Stack (top -> bottom): [30, 20, 10]\n",
        "print(s.pop())   # 30\n",
        "s.display()      # Stack (top -> bottom): [20, 10]\n",
        "\n"
      ],
      "metadata": {
        "colab": {
          "base_uri": "https://localhost:8080/"
        },
        "id": "Uh0F5qByqhtR",
        "outputId": "11d0200a-43e4-4943-da59-27717bc536df"
      },
      "execution_count": 8,
      "outputs": [
        {
          "output_type": "stream",
          "name": "stdout",
          "text": [
            "Stack (top -> bottom): [30, 20, 10]\n",
            "30\n",
            "Stack (top -> bottom): [20, 10]\n"
          ]
        }
      ]
    },
    {
      "cell_type": "code",
      "source": [
        "class Node:\n",
        "    def __init__(self, data):\n",
        "        self.data = data\n",
        "        self.next = None\n",
        "\n",
        "\n",
        "class Stack:\n",
        "    def __init__(self):\n",
        "        self.top = None\n",
        "\n",
        "    def is_empty(self):\n",
        "        return self.top is None\n",
        "\n",
        "    def push(self, item):\n",
        "        new_node = Node(item)\n",
        "        new_node.next = self.top   # link new node to previous top\n",
        "        self.top = new_node        # update top\n",
        "        print(f\"Pushed: {item}\")\n",
        "\n",
        "    def pop(self):\n",
        "        if self.is_empty():\n",
        "            return \"Stack Underflow\"\n",
        "        popped = self.top.data\n",
        "        self.top = self.top.next   # move top down\n",
        "        return popped\n",
        "\n",
        "    def peek(self):\n",
        "        if self.is_empty():\n",
        "            return \"Stack is empty\"\n",
        "        return self.top.data\n",
        "\n",
        "    def display(self):\n",
        "        if self.is_empty():\n",
        "            print(\"Stack is empty\")\n",
        "            return\n",
        "        curr = self.top\n",
        "        print(\"Stack (top -> bottom):\", end=\" \")\n",
        "        while curr:\n",
        "            print(curr.data, end=\" \")\n",
        "            curr = curr.next\n",
        "        print()\n"
      ],
      "metadata": {
        "id": "9SzlnRpGsM-Y"
      },
      "execution_count": 9,
      "outputs": []
    }
  ]
}